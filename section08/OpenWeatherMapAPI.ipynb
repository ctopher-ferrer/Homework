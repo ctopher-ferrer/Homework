{
 "cells": [
  {
   "cell_type": "code",
   "execution_count": 25,
   "metadata": {},
   "outputs": [
    {
     "name": "stdout",
     "output_type": "stream",
     "text": [
      "\n",
      "You asked for the weather in San Diego located in the country, US.\n",
      "The temp is 289.92 but it feels like but it feels like 289.95!\n",
      "With some mist.\n",
      "\n",
      "Request completed.\n"
     ]
    }
   ],
   "source": [
    "import requests\n",
    "from dotenv import load_dotenv\n",
    "import pandas as pd\n",
    "import json\n",
    "import os\n",
    "\n",
    "load_dotenv()\n",
    "api_key=os.getenv('API_KEY')\n",
    "\n",
    "city = input(\"Enter a city you want to get weather information for: \")\n",
    "\n",
    "try:\n",
    "    # make http request based on user input\n",
    "    url= 'http://api.openweathermap.org/data/2.5/weather?q='+city+'&appid=' + api_key\n",
    "\n",
    "    response = requests.get(url)\n",
    "\n",
    "    # convert json data\n",
    "    weather_data = json.loads(response.text)\n",
    "\n",
    "    # store data into different variables\n",
    "    Location = weather_data['name']\n",
    "    stuff = weather_data['sys']\n",
    "    weather_details = weather_data['main']\n",
    "    weather_desc = weather_data['weather']\n",
    "    weather_details2  = weather_desc[0]\n",
    "\n",
    "    print(f\"\\nYou asked for the weather in {Location} located in the country, {stuff['country']}.\")\n",
    "    print(f\"The temp is {weather_details['temp']} but it feels like but it feels like {weather_details['feels_like']}!\")\n",
    "    print(f\"With some {weather_details2['description']}.\")\n",
    "\n",
    "except requests.exceptions.RequestException as e:\n",
    "    # Handle connection errors\n",
    "    print(\"Connection error occurred:\", e)\n",
    "\n",
    "\n",
    "# 404 exception to catch when entered city is not found\n",
    "except KeyError:\n",
    "    print(f\"You entered, {city}, but this city could not be found.\")\n",
    "\n",
    "finally:\n",
    "    print('\\nRequest completed.')\n"
   ]
  }
 ],
 "metadata": {
  "kernelspec": {
   "display_name": "Python 3",
   "language": "python",
   "name": "python3"
  },
  "language_info": {
   "codemirror_mode": {
    "name": "ipython",
    "version": 3
   },
   "file_extension": ".py",
   "mimetype": "text/x-python",
   "name": "python",
   "nbconvert_exporter": "python",
   "pygments_lexer": "ipython3",
   "version": "3.11.3"
  },
  "orig_nbformat": 4
 },
 "nbformat": 4,
 "nbformat_minor": 2
}

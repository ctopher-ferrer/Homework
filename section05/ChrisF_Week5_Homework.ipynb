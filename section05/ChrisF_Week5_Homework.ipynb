{
 "cells": [
  {
   "attachments": {},
   "cell_type": "markdown",
   "metadata": {},
   "source": [
    "##### 1. What does Pandas stand for?\n",
    "- The Pandas package stands for Python Data Analysis.\n",
    "##### 2. What are the 2 collections used in Pandas?\n",
    "- Series and DataFrames\n",
    "##### 3. Name 4 things Pandas can do for us.\n",
    "- Data cleansing, loading and saving data, statistical analysis and data dill.\n",
    "##### 4. To permanently sort a DataFrame, which keyword should one use with the df.sort() method?\n",
    "- The keyword is inplace, which will modify the underlying data if set to True.\n",
    "##### 5. What is a CSV\n",
    "- CSV stands for Comma Separated Values which is a type of file that uses commas to separate the values.\n",
    "##### 6. When cleaning data what values do we not like in our data?\n",
    "- Null values are not liked as well as incorrect data which could be a string in a integer column."
   ]
  },
  {
   "cell_type": "code",
   "execution_count": 5,
   "metadata": {},
   "outputs": [
    {
     "data": {
      "text/plain": [
       "array([[[ 0,  1],\n",
       "        [ 2,  3],\n",
       "        [ 4,  5]],\n",
       "\n",
       "       [[ 6,  7],\n",
       "        [ 8,  9],\n",
       "        [10, 11]]])"
      ]
     },
     "execution_count": 5,
     "metadata": {},
     "output_type": "execute_result"
    }
   ],
   "source": [
    "# 7. Import NumPy, use one of the NumPy methods and create an array with a shape of ... (2, 3, 2). \n",
    "# You can use the reshape method -- .reshape()\n",
    "import numpy as np\n",
    "array_3d = np.arange(12).reshape((2,3,2))\n",
    "array_3d"
   ]
  },
  {
   "cell_type": "code",
   "execution_count": 9,
   "metadata": {},
   "outputs": [
    {
     "name": "stdout",
     "output_type": "stream",
     "text": [
      "The answer to number 8 is ...\n",
      " [ 0.  4.  8. 12. 16. 20.]\n",
      "The answer to number 9 is ...\n",
      " [ 0.  4.  8. 12. 16. 20.]\n"
     ]
    }
   ],
   "source": [
    "# 8 Use NumPy .linspace() to create an array with 6 linearly spaced values between 0 and 20\n",
    "import copy\n",
    "import numpy as np\n",
    "\n",
    "array2 = np.linspace(0,20,num=6)\n",
    "print(\"The answer to number 8 is ...\\n\",array2)\n",
    "\n",
    "#  9. Make a Deep Copy of the above array\n",
    "array2_1 = copy.deepcopy(array2)\n",
    "print(\"The answer to number 9 is ...\\n\",array2_1)"
   ]
  },
  {
   "cell_type": "code",
   "execution_count": 36,
   "metadata": {},
   "outputs": [
    {
     "name": "stdout",
     "output_type": "stream",
     "text": [
      "The answer to number 10 is ...\n",
      " [[0.568]\n",
      " [0.059]\n",
      " [0.24 ]\n",
      " [0.333]]\n",
      "(4, 1)\n"
     ]
    }
   ],
   "source": [
    "# 10: Using NumPy, 'broadcast' the multiplication of the following 2 \n",
    "# arrays below to a 2-D array using the newaxis parameter ...\n",
    "import numpy as np\n",
    "\n",
    "array_a = [0.71, 0.1, 0.24, 0.3]\n",
    "array_b = [0.8, 0.59, 1.0, 1.11]\n",
    "\n",
    "array_c = np.multiply(array_a,array_b)\n",
    "print(\"The answer to number 10 is ...\\n\",array_c[:, np.newaxis])\n",
    "print(array_c[:, np.newaxis].shape)"
   ]
  },
  {
   "cell_type": "code",
   "execution_count": 8,
   "metadata": {},
   "outputs": [
    {
     "name": "stdout",
     "output_type": "stream",
     "text": [
      "The answer to number 11 is ...\n",
      " [[25 16]\n",
      " [11  2]\n",
      " [13  4]\n",
      " [ 7 81]\n",
      " [ 5  6]\n",
      " [11 12]]\n",
      "(6, 2)\n",
      "\n",
      "The answer to number 12 is ...\n",
      " [[16 25]\n",
      " [ 2 11]\n",
      " [ 4 13]\n",
      " [ 7 81]\n",
      " [ 5  6]\n",
      " [11 12]]\n",
      "\n",
      "The answer to number 13 is ...\n",
      " [[[16 25  2]\n",
      "  [11  4 13]]\n",
      "\n",
      " [[ 7 81  5]\n",
      "  [ 6 11 12]]]\n",
      "\n",
      "For question 14.... The first unpacked array is [16 25  2] \n",
      "\n",
      "and the second unpacked array is [11  4 13]\n",
      "\n",
      "and the second unpacked array is [ 7 81  5]\n",
      "\n",
      "and the second unpacked array is [ 6 11 12]\n",
      "\n"
     ]
    }
   ],
   "source": [
    "# 11. Concatenate these 3 arrays into a new array named 'newArray'...\n",
    "import numpy as np\n",
    "\n",
    "arr1 = ([[25, 16]])\n",
    "arr2 = ([[11, 2], [13, 4]])\n",
    "arr3 = ([[7, 81], [5, 6], [11, 12]])\n",
    "newArray = np.concatenate((arr1,arr2,arr3))\n",
    "\n",
    "print(\"The answer to number 11 is ...\\n\",newArray)\n",
    "print(newArray.shape)\n",
    "\n",
    "# 12. Sort 'newArray' in order into 'sortedArray'\n",
    "\n",
    "sortedArray = np.sort(newArray)\n",
    "print(\"\\nThe answer to number 12 is ...\\n\",sortedArray)\n",
    "\n",
    "# 13. Reshape the 'sortedArray' array, into a new array called 'reshapedArray', \n",
    "# so it has 2 dimensions with a size of 2, 3.\n",
    "\n",
    "reshapedArray = sortedArray.reshape(2,2,3)\n",
    "print(\"\\nThe answer to number 13 is ...\\n\",reshapedArray)\n",
    "\n",
    "# 14. Unpack the array tuples from the above 'reshapedArray' \n",
    "# into 4 well named variables. Print the 4 variables.\n",
    "\n",
    "[[unpacked1, unpacked2], [unpacked3, unpacked4]] = reshapedArray\n",
    "print(f\"\"\"\\nFor question 14.... The first unpacked array is {unpacked1} \n",
    "\\nand the second unpacked array is {unpacked2}\n",
    "\\nand the third unpacked array is {unpacked3}\n",
    "\\nand the fourth unpacked array is {unpacked4}\n",
    "\"\"\")\n"
   ]
  },
  {
   "cell_type": "code",
   "execution_count": 46,
   "metadata": {},
   "outputs": [
    {
     "name": "stdout",
     "output_type": "stream",
     "text": [
      "[ 0  1  2  3  4  5  6  7 10 11 12 13 14 15 16 17 20 21 22 23 24 25 26 27]\n",
      "\n",
      "The second element is.... 1\n",
      "\n",
      "The elements from the 3rd element to the last are....\n",
      " [ 2  3  4  5  6  7 10 11 12 13 14 15 16 17 20 21 22 23 24 25 26 27]\n",
      "\n",
      "The elements from the 4th to the 14th elements are....\n",
      " [ 3  4  5  6  7 10 11 12 13 14 15]\n",
      "\n",
      "The the last 6 elements are.... [22 23 24 25 26 27]\n",
      "\n",
      "The elements from #0 up to and including #15 using neg # method are....\n",
      " [ 0  1  2  3  4  5  6  7 10 11 12 13 14 15]\n",
      "\n",
      "The from #20 every even element to the end.... [20 22 24 26]\n",
      "\n",
      "The last element moving forward, every 5th element is.... [27 22 17 12  7  2]\n"
     ]
    }
   ],
   "source": [
    "# 15. Combined and sort the following arrays into one called 'comboArray' ...\n",
    "import numpy as np\n",
    "\n",
    "one = ([10, 11, 12, 13, 14, 15, 16, 17])\n",
    "two = ([20, 21, 22, 23, 24, 25, 26, 27])\n",
    "three = ([ 0, 1, 2, 3, 4, 5, 6, 7])\n",
    "\n",
    "comboArray = np.sort(np.concatenate((one,two,three)))\n",
    "\n",
    "print(comboArray)\n",
    "\n",
    "# 16. Take 'comboArray' and perform the following slicing activities:\n",
    "# print sec1 - the 2nd element\n",
    "print(\"\\nThe second element is....\",comboArray[1])\n",
    "# print sec2 - all elements from the 3rd element to the last\n",
    "print(\"\\nThe elements from the 3rd element to the last are....\\n\",comboArray[2:])\n",
    "# print sec3 - all elements from the 4th to the 14th elements\n",
    "print(\"\\nThe elements from the 4th to the 14th elements are....\\n\",comboArray[3:14])\n",
    "# print sec4 - the last 6 elements\n",
    "print(\"\\nThe the last 6 elements are....\",comboArray[-6:])\n",
    "# print sec5 - all element from #0 up to and including #15, using \n",
    "# the negative number method, i.e. taking a section from the end.\n",
    "print(\"\\nThe elements from #0 up to and including #15 using neg # method are....\\n\",comboArray[-28:-10])\n",
    "# print sec6 - from #20 every even element to the end\n",
    "print(\"\\nThe from #20 every even element to the end....\",np.arange(comboArray[16],comboArray[23],2))\n",
    "# print sec7 - from the last element moving forward, every 5th element.\n",
    "print(\"\\nThe last element moving forward, every 5th element is....\",np.arange(comboArray[-1],comboArray[-24],-5))\n"
   ]
  },
  {
   "cell_type": "code",
   "execution_count": 50,
   "metadata": {},
   "outputs": [
    {
     "name": "stdout",
     "output_type": "stream",
     "text": [
      "  Ingredients Quantity   Unit\n",
      "0       Flour        4   cups\n",
      "1        Milk        1    cup\n",
      "2        Eggs        2  large\n",
      "3        Spam        1    can\n"
     ]
    }
   ],
   "source": [
    "# Skipping 17 to 19\n",
    "# 20. Using Series, create a DataFrame that looks like this:\n",
    "import pandas as pd\n",
    "\n",
    "Ingredients = pd.Series([\"Flour\",\"Milk\",\"Eggs\",\"Spam\"],name=\"Ingredients\")\n",
    "Quantity = pd.Series([\"4\",\"1\",\"2\",\"1\"],name=\"Quantity\")\n",
    "Unit = pd.Series([\"cups\",\"cup\",\"large\",\"can\"],name=\"Unit\")\n",
    "\n",
    "ShoppingListDF = pd.concat([Ingredients,Quantity,Unit],axis=1)\n",
    "print(ShoppingListDF)"
   ]
  },
  {
   "cell_type": "code",
   "execution_count": 10,
   "metadata": {},
   "outputs": [
    {
     "name": "stdout",
     "output_type": "stream",
     "text": [
      "21. Take this data and create a DataFrame named studentData\n",
      "\n",
      "      Name  Height Qualification  address  Age        Pets           sport\n",
      "0      Jai     5.1           Msc    Delhi   21         Dog           Darts\n",
      "1  janusha     6.2            MA     Doha   23       Bunny      Basketball\n",
      "2   Gaurav     5.1           Msc  Chennai   24  Chinchilla  PaddleBoarding\n",
      "3     Anuj     5.2           Msc   Dakhar   21      Parrot         Cricket\n",
      "\n",
      " 22. Add a new column to the DataFrame with the following deserts: \n",
      " [\"ice cream\", \"Cashew Fudge\", \"waffels\", \"Carrot Halwa\"] \n",
      "\n",
      "Updated DataFrame with deserts...\n",
      "       Name  Height Qualification  address  Age        Pets           sport   \n",
      "0      Jai     5.1           Msc    Delhi   21         Dog           Darts  \\\n",
      "1  janusha     6.2            MA     Doha   23       Bunny      Basketball   \n",
      "2   Gaurav     5.1           Msc  Chennai   24  Chinchilla  PaddleBoarding   \n",
      "3     Anuj     5.2           Msc   Dakhar   21      Parrot         Cricket   \n",
      "\n",
      "        Deserts  \n",
      "0     ice cream  \n",
      "1  Cashew Fudge  \n",
      "2       waffels  \n",
      "3  Carrot Halwa  \n",
      "\n",
      "23. Sort the 'studentData' DataFrame in Ascending order -- \n",
      "Sorting by column 'Name' and then \"address\n"
     ]
    },
    {
     "data": {
      "text/html": [
       "<div>\n",
       "<style scoped>\n",
       "    .dataframe tbody tr th:only-of-type {\n",
       "        vertical-align: middle;\n",
       "    }\n",
       "\n",
       "    .dataframe tbody tr th {\n",
       "        vertical-align: top;\n",
       "    }\n",
       "\n",
       "    .dataframe thead th {\n",
       "        text-align: right;\n",
       "    }\n",
       "</style>\n",
       "<table border=\"1\" class=\"dataframe\">\n",
       "  <thead>\n",
       "    <tr style=\"text-align: right;\">\n",
       "      <th></th>\n",
       "      <th>Name</th>\n",
       "      <th>Height</th>\n",
       "      <th>Qualification</th>\n",
       "      <th>address</th>\n",
       "      <th>Age</th>\n",
       "      <th>Pets</th>\n",
       "      <th>sport</th>\n",
       "      <th>Deserts</th>\n",
       "    </tr>\n",
       "  </thead>\n",
       "  <tbody>\n",
       "    <tr>\n",
       "      <th>3</th>\n",
       "      <td>Anuj</td>\n",
       "      <td>5.2</td>\n",
       "      <td>Msc</td>\n",
       "      <td>Dakhar</td>\n",
       "      <td>21</td>\n",
       "      <td>Parrot</td>\n",
       "      <td>Cricket</td>\n",
       "      <td>Carrot Halwa</td>\n",
       "    </tr>\n",
       "    <tr>\n",
       "      <th>2</th>\n",
       "      <td>Gaurav</td>\n",
       "      <td>5.1</td>\n",
       "      <td>Msc</td>\n",
       "      <td>Chennai</td>\n",
       "      <td>24</td>\n",
       "      <td>Chinchilla</td>\n",
       "      <td>PaddleBoarding</td>\n",
       "      <td>waffels</td>\n",
       "    </tr>\n",
       "    <tr>\n",
       "      <th>0</th>\n",
       "      <td>Jai</td>\n",
       "      <td>5.1</td>\n",
       "      <td>Msc</td>\n",
       "      <td>Delhi</td>\n",
       "      <td>21</td>\n",
       "      <td>Dog</td>\n",
       "      <td>Darts</td>\n",
       "      <td>ice cream</td>\n",
       "    </tr>\n",
       "    <tr>\n",
       "      <th>1</th>\n",
       "      <td>janusha</td>\n",
       "      <td>6.2</td>\n",
       "      <td>MA</td>\n",
       "      <td>Doha</td>\n",
       "      <td>23</td>\n",
       "      <td>Bunny</td>\n",
       "      <td>Basketball</td>\n",
       "      <td>Cashew Fudge</td>\n",
       "    </tr>\n",
       "  </tbody>\n",
       "</table>\n",
       "</div>"
      ],
      "text/plain": [
       "      Name  Height Qualification  address  Age        Pets           sport   \n",
       "3     Anuj     5.2           Msc   Dakhar   21      Parrot         Cricket  \\\n",
       "2   Gaurav     5.1           Msc  Chennai   24  Chinchilla  PaddleBoarding   \n",
       "0      Jai     5.1           Msc    Delhi   21         Dog           Darts   \n",
       "1  janusha     6.2            MA     Doha   23       Bunny      Basketball   \n",
       "\n",
       "        Deserts  \n",
       "3  Carrot Halwa  \n",
       "2       waffels  \n",
       "0     ice cream  \n",
       "1  Cashew Fudge  "
      ]
     },
     "execution_count": 10,
     "metadata": {},
     "output_type": "execute_result"
    }
   ],
   "source": [
    "# Question 21\n",
    "print(\"21. Take this data and create a DataFrame named studentData\\n\")\n",
    "import pandas as pd\n",
    "things =     {'Name': ['Jai', 'janusha', 'Gaurav', 'Anuj'],\n",
    "        'Height': [5.1, 6.2, 5.1, 5.2],\n",
    "        'Qualification': ['Msc', 'MA', 'Msc', 'Msc'],\n",
    "        'address': ['Delhi', 'Doha', 'Chennai', 'Dakhar'],\n",
    "        'Age': [21, 23, 24, 21],\n",
    "        'Pets': ['Dog', 'Bunny', 'Chinchilla', 'Parrot'],\n",
    "        'sport': ['Darts', 'Basketball', 'PaddleBoarding', 'Cricket']\n",
    "    }\n",
    "\n",
    "studentData = pd.DataFrame(things)\n",
    "print(studentData)\n",
    "\n",
    "# Question 22\n",
    "print(\"\"\"\\n 22. Add a new column to the DataFrame with the following deserts: \n",
    " [\"ice cream\", \"Cashew Fudge\", \"waffels\", \"Carrot Halwa\"] \"\"\")\n",
    "Deserts = [\"ice cream\", \"Cashew Fudge\", \"waffels\", \"Carrot Halwa\"]\n",
    "studentData[\"Deserts\"]=Deserts\n",
    "print(\"\\nUpdated DataFrame with deserts...\\n\",studentData)\n",
    "\n",
    "# Question 23\n",
    "print(\"\"\"\\n23. Sort the 'studentData' DataFrame in Ascending order -- \n",
    "Sorting by column 'Name' and then \"address\"\"\")\n",
    "\n",
    "studentData.sort_values(by=[\"Name\",\"address\"])\n"
   ]
  },
  {
   "cell_type": "code",
   "execution_count": 66,
   "metadata": {},
   "outputs": [
    {
     "name": "stdout",
     "output_type": "stream",
     "text": [
      "24. Save this DataFrame here below to disc as a .CSV file \n",
      "# with the name cows_and_goats.csv:\n",
      "\n",
      "\n",
      " My current inventory of my farm is....\n",
      "    Cows  Goats\n",
      "0    12     22\n",
      "1    20     19\n"
     ]
    }
   ],
   "source": [
    "# Question 24\n",
    "print(\"\"\"24. Save this DataFrame here below to disc as a .CSV file \n",
    "# with the name cows_and_goats.csv:\\n\"\"\")\n",
    "import pandas as pd\n",
    "df = pd.DataFrame({'Cows': [12, 20], 'Goats': [22, 19]}, index=['Year 1', 'Year 2'])\n",
    "\n",
    "df.to_csv(\"cows_and_goats.csv\",index=False)\n",
    "\n",
    "df1 = pd.read_csv(\"cows_and_goats.csv\")\n",
    "print(\"\\n My current inventory of my farm is....\\n\",df1)"
   ]
  },
  {
   "cell_type": "code",
   "execution_count": 65,
   "metadata": {},
   "outputs": [
    {
     "name": "stdout",
     "output_type": "stream",
     "text": [
      "25. (A) Using Pandas, make your own .CSV file with data on vegetables and save it. \n",
      "# (B) Using Pandas, make a change to your CSV file, and save a copy with a different name.\n",
      "\n",
      "\n",
      "Check out this veggies list: \n",
      "       Name  Color  Liked\n",
      "0   Potato  Brown   True\n",
      "1    Beets    Red  False\n",
      "2   Tomato    Red   True\n",
      "3   Celery  Green  False\n",
      "4  Spinach  Green   True\n",
      "\n",
      "Check out the latest on veggies: \n",
      "       Name  Color  Liked Good On Sandwich\n",
      "0   Potato  Brown   True               No\n",
      "1    Beets    Red  False            Maybe\n",
      "2   Tomato    Red   True              Yes\n",
      "3   Celery  Green  False     Probably Not\n",
      "4  Spinach  Green   True              Yes\n"
     ]
    }
   ],
   "source": [
    "# Question 25\n",
    "print(\"\"\"25. (A) Using Pandas, make your own .CSV file with data on vegetables and save it. \n",
    "# (B) Using Pandas, make a change to your CSV file, and save a copy with a different name.\\n\"\"\")\n",
    "# Create veggie dataframe\n",
    "veggies = {\n",
    "    \"Name\": [\"Potato\",\"Beets\",\"Tomato\",\"Celery\",\"Spinach\"],\n",
    "    \"Color\": [\"Brown\",\"Red\",\"Red\",\"Green\",\"Green\"],\n",
    "    \"Liked\": [True,False,True,False,True],\n",
    "}\n",
    "veggiesDF = pd.DataFrame(veggies)\n",
    "print(\"\\nCheck out this veggies list: \\n\",veggiesDF)\n",
    "# Save veggie dataframe to CSV\n",
    "veggiesDF.to_csv(\"VeggieList.csv\",index=False)\n",
    "\n",
    "# Open previously made CSV and add a new column\n",
    "NewVeggieList = pd.read_csv(\"VeggieList.csv\")\n",
    "Good_On_Sandwich = [\"No\",\"Maybe\",\"Yes\",\"Probably Not\",\"Yes\"]\n",
    "NewVeggieList[\"Good On Sandwich\"] = Good_On_Sandwich\n",
    "\n",
    "# Save new Veggie List and read then print results\n",
    "NewVeggieList.to_csv(\"NEW_VeggieList.csv\",index=False)\n",
    "NewVeggieListDF = pd.read_csv(\"NEW_VeggieList.csv\")\n",
    "print(\"\\nCheck out the latest on veggies: \\n\",NewVeggieListDF)"
   ]
  }
 ],
 "metadata": {
  "kernelspec": {
   "display_name": "Python 3",
   "language": "python",
   "name": "python3"
  },
  "language_info": {
   "codemirror_mode": {
    "name": "ipython",
    "version": 3
   },
   "file_extension": ".py",
   "mimetype": "text/x-python",
   "name": "python",
   "nbconvert_exporter": "python",
   "pygments_lexer": "ipython3",
   "version": "3.11.3"
  },
  "orig_nbformat": 4
 },
 "nbformat": 4,
 "nbformat_minor": 2
}

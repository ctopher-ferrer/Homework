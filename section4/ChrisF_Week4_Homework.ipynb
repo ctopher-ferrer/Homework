{
 "cells": [
  {
   "cell_type": "code",
   "execution_count": 2,
   "metadata": {},
   "outputs": [
    {
     "name": "stdout",
     "output_type": "stream",
     "text": [
      "Renting a car is more affordable\n"
     ]
    }
   ],
   "source": [
    "#Flow Control Methods #1\n",
    "age = int(input(\"What is your age? \"))\n",
    "if age >= 25:\n",
    "    print(\"Renting a car is more affordable\")\n",
    "else: print(\"Renting a car is very expensive\")\n"
   ]
  },
  {
   "cell_type": "code",
   "execution_count": 4,
   "metadata": {},
   "outputs": [
    {
     "name": "stdout",
     "output_type": "stream",
     "text": [
      "Renting a car is very expensive\n"
     ]
    }
   ],
   "source": [
    "#Flow Control Methods #2\n",
    "age = int(input(\"What is your age? \"))\n",
    "\n",
    "if age >= 25:\n",
    "    print(\"Renting a car is more affordable\")\n",
    "elif age < 25 and age >= 18:\n",
    "    print(\"Renting a car is very expensive\")\n",
    "elif age < 18: \n",
    "    print(\"You cannot legally rent a car\")"
   ]
  },
  {
   "cell_type": "code",
   "execution_count": 17,
   "metadata": {},
   "outputs": [
    {
     "name": "stdout",
     "output_type": "stream",
     "text": [
      "the total amount of characters in the phrase is 43\n",
      "e\n",
      "u\n",
      "i\n",
      "o\n",
      "o\n",
      "u\n",
      "o\n",
      "e\n",
      "e\n",
      "a\n",
      "o\n"
     ]
    }
   ],
   "source": [
    "#Flow Control Methods #3\n",
    "\n",
    "#Count strings in the phrase below\n",
    "phrase = \"The quick brown fox jumps over the lazy dog\"\n",
    "letter_count = 0\n",
    "\n",
    "for letter in phrase:\n",
    "    letter_count +=1\n",
    "\n",
    "print(\"the total amount of characters in the phrase is:\",letter_count)\n",
    "\n",
    "#Print out all the vowels\n",
    "vowels = 'aeiou'\n",
    "for letter in phrase:\n",
    "    if letter in vowels:\n",
    "        print(letter)"
   ]
  },
  {
   "cell_type": "code",
   "execution_count": 18,
   "metadata": {},
   "outputs": [
    {
     "name": "stdout",
     "output_type": "stream",
     "text": [
      "trousers auburn\n",
      "trousers burnt sienna\n",
      "trousers Dark Sapphire\n",
      "trousers maple\n",
      "trousers gunmetal blue\n",
      "trousers aqua\n",
      "trousers cerise\n",
      "trousers fuchsia\n",
      "blouse auburn\n",
      "blouse burnt sienna\n",
      "blouse Dark Sapphire\n",
      "blouse maple\n",
      "blouse gunmetal blue\n",
      "blouse aqua\n",
      "blouse cerise\n",
      "blouse fuchsia\n",
      "bandana auburn\n",
      "bandana burnt sienna\n",
      "bandana Dark Sapphire\n",
      "bandana maple\n",
      "bandana gunmetal blue\n",
      "bandana aqua\n",
      "bandana cerise\n",
      "bandana fuchsia\n",
      "cumber band auburn\n",
      "cumber band burnt sienna\n",
      "cumber band Dark Sapphire\n",
      "cumber band maple\n",
      "cumber band gunmetal blue\n",
      "cumber band aqua\n",
      "cumber band cerise\n",
      "cumber band fuchsia\n",
      "blazer auburn\n",
      "blazer burnt sienna\n",
      "blazer Dark Sapphire\n",
      "blazer maple\n",
      "blazer gunmetal blue\n",
      "blazer aqua\n",
      "blazer cerise\n",
      "blazer fuchsia\n",
      "vest auburn\n",
      "vest burnt sienna\n",
      "vest Dark Sapphire\n",
      "vest maple\n",
      "vest gunmetal blue\n",
      "vest aqua\n",
      "vest cerise\n",
      "vest fuchsia\n",
      "french beret auburn\n",
      "french beret burnt sienna\n",
      "french beret Dark Sapphire\n",
      "french beret maple\n",
      "french beret gunmetal blue\n",
      "french beret aqua\n",
      "french beret cerise\n",
      "french beret fuchsia\n",
      "scarf auburn\n",
      "scarf burnt sienna\n",
      "scarf Dark Sapphire\n",
      "scarf maple\n",
      "scarf gunmetal blue\n",
      "scarf aqua\n",
      "scarf cerise\n",
      "scarf fuchsia\n",
      "stole auburn\n",
      "stole burnt sienna\n",
      "stole Dark Sapphire\n",
      "stole maple\n",
      "stole gunmetal blue\n",
      "stole aqua\n",
      "stole cerise\n",
      "stole fuchsia\n"
     ]
    }
   ],
   "source": [
    "#Flow Control Methods #4\n",
    "\n",
    "#Nested Loop that prints every clothing in couture in each color in panettone\n",
    "couture = [\"trousers\", \"blouse\", \"bandana\", \"cumber band\", \"blazer\", \"vest\", \"french beret\", \"scarf\", \"stole\"]\n",
    "panettone = {\"cerise\", \"fuchsia\", \"aqua\", \"maple\", \"auburn\", \"burnt sienna\", \"gunmetal blue\", \"Dark Sapphire\"}\n",
    "\n",
    "for item in couture:\n",
    "    for color in panettone:\n",
    "        print(item,color)\n"
   ]
  },
  {
   "cell_type": "code",
   "execution_count": 6,
   "metadata": {},
   "outputs": [
    {
     "data": {
      "text/plain": [
       "5050"
      ]
     },
     "execution_count": 6,
     "metadata": {},
     "output_type": "execute_result"
    }
   ],
   "source": [
    "#Flow Control Methods #5\n",
    "\n",
    "sum = 0\n",
    "# Use a range loop to calculate sum of all numbers from 1 to 100\n",
    "for num in range(1,101):\n",
    "    sum=sum+num\n",
    "sum\n",
    "\n"
   ]
  },
  {
   "cell_type": "code",
   "execution_count": 53,
   "metadata": {},
   "outputs": [
    {
     "name": "stdout",
     "output_type": "stream",
     "text": [
      "The answer to step 6 is.... banana\n",
      "\n",
      "The answer to step 7 is.... ['kiwi', 'banana', 'cherry']\n",
      "\n",
      "The answer to step 8 is.... ['apple', 'banana', 'cherry', 'orange']\n",
      "\n",
      "The answer to step 9 is.... ['apple', 'lemon', 'banana', 'cherry', 'orange']\n",
      "\n",
      "The answer to step 10 is.... ['apple', 'lemon', 'cherry', 'orange']\n",
      "\n",
      "The answer to step 11 is.... ['kiwi', 'melon']\n",
      "\n",
      "The answer to step 12 is.... ['cherry', 'orange', 'kiwi']\n",
      "\n",
      "The answer to step 13 is.... 7\n",
      "\n",
      "The answer to step 14 is.... ['mango', 'melon', 'kiwi', 'orange', 'cherry', 'banana', 'apple']\n"
     ]
    }
   ],
   "source": [
    "#Flow Control Methods #6 to 14\n",
    "\n",
    "# 6. Print the second item in this fruits list. [\"apple\", \"banana\", \"cherry\"]\n",
    "fruits = [\"apple\", \"banana\", \"cherry\"]\n",
    "print(\"The answer to step 6 is....\",fruits[1])\n",
    "\n",
    "# 7. Change the value from \"apple\" to \"kiwi\", in the fruits list. [\"apple\", \"banana\", \"cherry\"]\n",
    "fruits[0] = \"kiwi\"\n",
    "print(\"\\nThe answer to step 7 is....\",fruits)\n",
    "\n",
    "# 8. Use the append method to add \"orange\" to the fruits list. [\"apple\", \"banana\", \"cherry\"]\n",
    "fruits = [\"apple\", \"banana\", \"cherry\"]\n",
    "fruits.append(\"orange\")\n",
    "print(\"\\nThe answer to step 8 is....\",fruits)\n",
    "\n",
    "# 9. Use the insert method to add \"lemon\" as the second item in the fruits list. [\"apple\", \"banana\", \"cherry\"]\n",
    "fruits.insert(1,\"lemon\")\n",
    "print(\"\\nThe answer to step 9 is....\",fruits)\n",
    "\n",
    "# 10. Use the remove method to remove \"banana\" from the fruits list. [\"apple\", \"banana\", \"cherry\"]\n",
    "fruits.remove(\"banana\")\n",
    "print(\"\\nThe answer to step 10 is....\",fruits)\n",
    "# 11. Use negative indexing to print the 3rd and 2nd to last items in the list. [\"apple\", \"banana\", \"cherry\", \"orange\", \"kiwi\", \"melon\", \"mango\"]\n",
    "fruits = [\"apple\", \"banana\", \"cherry\", \"orange\", \"kiwi\", \"melon\", \"mango\"]\n",
    "print(\"\\nThe answer to step 11 is....\",fruits[-3:-1])\n",
    "\n",
    "# 12. Use a range of indexes to print the third, fourth, and fifth item in the list. [\"apple\", \"banana\", \"cherry\", \"orange\", \"kiwi\", \"melon\", \"mango\"]\n",
    "print(\"\\nThe answer to step 12 is....\",fruits[2:5])\n",
    "\n",
    "# 13. Use the correct syntax to print the number of items in the list. [\"apple\", \"banana\", \"cherry\", \"orange\", \"kiwi\", \"melon\", \"mango\"]\n",
    "print(\"\\nThe answer to step 13 is....\",len(fruits))\n",
    "\n",
    "# 14. Use the correct syntax to sort this list in reverse order [\"apple\", \"banana\", \"cherry\", \"orange\", \"kiwi\", \"melon\", \"mango\"]\n",
    "fruits.reverse()\n",
    "print(\"\\nThe answer to step 14 is....\",fruits)\n"
   ]
  },
  {
   "attachments": {},
   "cell_type": "markdown",
   "metadata": {},
   "source": [
    "##### 1. What does one need to do to use a module?\n",
    "- A user would need to import the module they attend to use\n",
    "##### 2.Name a Module (not the DateTime Module) we looked at and write a line or 2 of code as an example using this module.\n",
    "-  math is another module that we discussed in class. An example of math module is\n",
    "import math is:<br>\n",
    "<br>import math\n",
    "<br>number_list = [2.5, 1.3, 1.7, 8.5]\n",
    "<br>print(\"The sum of the number list is....\", math.fsum(number_list))\n",
    "##### 3. What is a benefit of using Exception handling?\n",
    "- It allows for error(s) to be caught and allow for different actions to be taken, depending on the type of error.\n",
    "##### 4. What are the 4 components used for Python Exception Handling?\n",
    "- The 4 components for Python exception handling are try, except, else and finally.\n",
    "##### 5. NumPy arrays are like what Python data type?\n",
    "- NumPy arrays are like Lists however they can only store one type of Data Type.\n",
    "##### 6. What is one of the main benefits of using NumPy arrays.\n",
    "- One of the benefits for using NumPy arrays is that it occupies less memory.\n",
    "##### 7. What is one of the main requirements about the 'dtype' of NumPy arrays?\n",
    "- The main requirement of the 'dtype' of NumPy arrays is that they can only be one type.\n",
    "##### 8. Of the 10 uses of NumPy, name 2.\n",
    "- Statistical Operations and Lindear Algebra\n",
    "##### 9. Name one of the other libraries we'll use with NumPy?\n",
    "- Pandas\n",
    "##### 10. What is the shape of NumPy arrays?\n",
    "- The shape of the array describes the number of rows and columns for a 2D array but for a 3D array it is number of axes, length of each dimension (row) and the size of the elements (columns)\n",
    "##### 11. What is a Tensor?\n",
    "- It is an array with+ 3 dimensions \n",
    "##### 12. Name a reason why it's better using  NumPy for Data Analysis than using a Python List?\n",
    "- NumPy occupies less memory compared to Python Lists and NumPy has additional functions that can be utilized for data analysis.\n",
    "##### 13. When creating an \"empty\" array, where do the elements come from?\n",
    "- When creating an \"empty\" array the values will be based on memory."
   ]
  }
 ],
 "metadata": {
  "kernelspec": {
   "display_name": "Python 3",
   "language": "python",
   "name": "python3"
  },
  "language_info": {
   "codemirror_mode": {
    "name": "ipython",
    "version": 3
   },
   "file_extension": ".py",
   "mimetype": "text/x-python",
   "name": "python",
   "nbconvert_exporter": "python",
   "pygments_lexer": "ipython3",
   "version": "3.11.3"
  },
  "orig_nbformat": 4
 },
 "nbformat": 4,
 "nbformat_minor": 2
}

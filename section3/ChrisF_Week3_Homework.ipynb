{
 "cells": [
  {
   "attachments": {},
   "cell_type": "markdown",
   "metadata": {},
   "source": [
    "#### Section 3.1 Homework\n",
    "\n",
    "##### Question 1 What is an Algorithm?\n",
    "- An algorithm is a series of steps to solve a problem at hand\n",
    "##### Variable names may not start with certain characters -  name two.\n",
    "- Numbers\n",
    "- Special character other than the underscore character\n",
    "##### What is a Semantic error?\n",
    "- The code is grammatically correct however the results generating are not the expected results\n",
    "##### What is the #1 rule of coding / debugging?\n",
    "- Complexity is the enemy of efficiency\n",
    "##### List 5 Python reserved words.\n",
    "1. False\n",
    "2. True\n",
    "3. elif\n",
    "4. else\n",
    "5. return\n"
   ]
  },
  {
   "cell_type": "code",
   "execution_count": 78,
   "metadata": {},
   "outputs": [
    {
     "name": "stdout",
     "output_type": "stream",
     "text": [
      "My name is Christopher Ferrer.\n",
      "My favorite food is ramen.\n",
      "My dream job would be working at either a hospital, school or for the government.\n",
      "\n"
     ]
    }
   ],
   "source": [
    "#HW step 6\n",
    "a=\"\"\"My name is Christopher Ferrer.\n",
    "My favorite food is ramen.\n",
    "My dream job would be working at either a hospital, school or for the government.\n",
    "\"\"\"\n",
    "print(a)"
   ]
  },
  {
   "cell_type": "code",
   "execution_count": 79,
   "metadata": {},
   "outputs": [
    {
     "name": "stdout",
     "output_type": "stream",
     "text": [
      "15\n",
      "a\n"
     ]
    }
   ],
   "source": [
    "# HW step 7\n",
    "FavGame = \"Final Fantasy 7\"\n",
    "HighSchoolJersey = 2\n",
    "gpa = 3.4\n",
    "EatsTacos = True\n",
    "Animals = [\"Dog\", \"Turtle\"]\n",
    "\n",
    "print(len(FavGame))\n",
    "print(FavGame[3])"
   ]
  },
  {
   "cell_type": "code",
   "execution_count": 82,
   "metadata": {},
   "outputs": [
    {
     "name": "stdout",
     "output_type": "stream",
     "text": [
      "ing Data Analytics and\n",
      "\n",
      "Learning Data Analytics and Python is Great!\n"
     ]
    }
   ],
   "source": [
    "# HW step 8\n",
    "savvy = \"\\nLearning Data Analytics and Python is Awesome!\"\n",
    "print(savvy[6:28])\n",
    "\n",
    "savvy = savvy.replace(\"Awesome\",\"Great\")\n",
    "\n",
    "if \"Python\" in savvy:\n",
    "    print(savvy)"
   ]
  },
  {
   "cell_type": "code",
   "execution_count": 83,
   "metadata": {},
   "outputs": [
    {
     "name": "stdout",
     "output_type": "stream",
     "text": [
      "Hi my name is Chris, I am 6.0 ft and 33 old today.\n",
      "33.0\n"
     ]
    }
   ],
   "source": [
    "# HW step 9\n",
    "name, age, length = \"Chris\", 33, \"6.0 ft\" \n",
    "miniBio = (f\"Hi my name is {name}, I am {length} and {age} old today.\")\n",
    "print(miniBio)\n",
    "print(float(age))"
   ]
  },
  {
   "attachments": {},
   "cell_type": "markdown",
   "metadata": {},
   "source": [
    "#### Section 3.2 Homework"
   ]
  },
  {
   "cell_type": "code",
   "execution_count": 73,
   "metadata": {},
   "outputs": [
    {
     "name": "stdout",
     "output_type": "stream",
     "text": [
      "['taco', 'burrito', 7.77, 2, False, ['Whopper', 'jr. whopper']]\n",
      "8\n",
      "[['Whopper', 'jr. whopper']]\n",
      "['carne asada', 'guac', 'salsa', 'sour cream', 'tortilla']\n",
      "['carne asada', 'guac', 'salsa', 'sour cream', 'tortilla', ['Whopper', 'jr. whopper']]\n"
     ]
    }
   ],
   "source": [
    "# HW step 10\n",
    "random = [\"taco\",\"burrito\",7.77,2,True, [\"Whopper\",\"jr. whopper\"]]\n",
    "\n",
    "random[4] = False\n",
    "\n",
    "print(random)\n",
    "random.append(\"carne asada fries\")\n",
    "random.append(\"rolled tacos\")\n",
    "\n",
    "print(len(random))\n",
    "\n",
    "burgers = random[5:6]\n",
    "print(burgers)\n",
    "\n",
    "random.extend(burgers)\n",
    "\n",
    "simList = [\"tortilla\",\"sour cream\", \"carne asada\", \"guac\", \"salsa\"]\n",
    "simList.sort()\n",
    "\n",
    "print(simList)\n",
    "\n",
    "random3 = simList.copy()\n",
    "random4 = random3 + burgers\n",
    "print(random4)"
   ]
  },
  {
   "cell_type": "code",
   "execution_count": 24,
   "metadata": {},
   "outputs": [
    {
     "name": "stdout",
     "output_type": "stream",
     "text": [
      "Boxer\n",
      "\n",
      " ['Boxer', 'Boxer', 'Boxer', 'English Bulldog', 'English Bulldog', 'English Bulldog', 'Labrador Retriever', 'Labrador Retriever', 'Labrador Retriever', 'Poodle', 'Poodle', 'Poodle', 'Shiba Inu', 'Shiba Inu', 'Shiba Inu']\n",
      "\n",
      "dog #1 is  Boxer\n",
      "dog #2 is  English Bulldog\n",
      "dog #3 is  Labrador Retriever\n",
      "dog #4 is  Shiba Inu\n",
      "\n",
      " (50,)\n",
      "('Labrador Retriever', 'Boxer', 'Shiba Inu', 'English Bulldog', 'Poodle', 'Labrador Retriever', 'Boxer', 'Shiba Inu', 'English Bulldog', 'Poodle', 'Labrador Retriever', 'Boxer', 'Shiba Inu', 'English Bulldog', 'Poodle', 'Boxer', 'English Bulldog', 'Labrador Retriever', 'Shiba Inu')\n"
     ]
    }
   ],
   "source": [
    "# HW step 11\n",
    "dog = (\"Labrador Retriever\",\"Boxer\", \"Shiba Inu\", \"English Bulldog\",\"Poodle\")\n",
    "dogs = dog*3\n",
    "print(dogs[11])\n",
    "\n",
    "print(\"\\n\",sorted(dogs))\n",
    "\n",
    "doggie = (dogs[1], dogs[3],dogs[5],dogs[7])\n",
    "\n",
    "(dog1, dog2, dog3, dog4) = doggie\n",
    "\n",
    "print(\"\\ndog #1 is \",dog1)\n",
    "print(\"dog #2 is \",dog2)\n",
    "print(\"dog #3 is \",dog3)\n",
    "print(\"dog #4 is \",dog4)\n",
    "\n",
    "Tups_4 = (50,)\n",
    "print(\"\\n\",Tups_4)\n",
    "\n",
    "Tups_5 = dogs + doggie\n",
    "\n",
    "print(Tups_5)"
   ]
  },
  {
   "cell_type": "code",
   "execution_count": 55,
   "metadata": {},
   "outputs": [
    {
     "name": "stdout",
     "output_type": "stream",
     "text": [
      "{'kiwi', 'mango', 'laptop', 'mouse', 'pineapple', 'monitor'}\n",
      "\n",
      " {'bottle', 'coin'}\n",
      "\n",
      " set()\n",
      "\n",
      " {'coin', 'kiwi', 'mango', 'headphones', 'Tacoma Truck', 'mouse', 'pineapple', 'monitor'}\n"
     ]
    }
   ],
   "source": [
    "#HW step 12\n",
    "stuff = {\"laptop\",\"mouse\", \"monitor\"}\n",
    "stuff.add(\"pineapple\")\n",
    "stuff.add(\"mango\")\n",
    "stuff.add(\"kiwi\")\n",
    "\n",
    "print(stuff)\n",
    "\n",
    "stuff.add(\"Tacoma Truck\")\n",
    "\n",
    "stuff2 = {\"bottle\", \"coin\", \"headphones\"}\n",
    "stuff3 = stuff.union(stuff2)\n",
    "\n",
    "stuff2.pop()\n",
    "print(\"\\n\",stuff2)\n",
    "\n",
    "stuff.clear()\n",
    "print(\"\\nclear the first set....\",stuff)\n",
    "\n",
    "stuff3.discard(\"bottle\")\n",
    "stuff3.remove(\"laptop\")\n",
    "print(\"\\n\",stuff3)\n",
    "\n"
   ]
  },
  {
   "cell_type": "code",
   "execution_count": 72,
   "metadata": {},
   "outputs": [
    {
     "name": "stdout",
     "output_type": "stream",
     "text": [
      "Name of character is, Cloud\n",
      "\n",
      "He changed his name to, Chris\n",
      "\n",
      " {'Name': 'Chris', 'weapon': 'sword', 'Attack_Strength': 74, 'OriginCity': 'Nibelheim', 'Short_Range': True, 'color': 'blue', 'magic': ['fire', 'ice', 'lightning']}\n",
      "\n",
      " dict_keys(['Name', 'weapon', 'Attack_Strength', 'OriginCity', 'Short_Range', 'color', 'magic'])\n",
      "\n",
      " dict_values(['Chris', 'sword', 74, 'Nibelheim', True, 'blue', ['fire', 'ice', 'lightning']])\n",
      "\n",
      " {'Name': 'Chris', 'weapon': 'sword', 'OriginCity': 'Nibelheim', 'Short_Range': True, 'color': 'blue', 'magic': ['fire', 'ice', 'lightning']}\n",
      "\n",
      "Remove all elements from 2nd dictionary {}\n"
     ]
    }
   ],
   "source": [
    "#HW step 13\n",
    "character = {\n",
    "    \"Name\": \"Cloud\",\n",
    "    \"weapon\": \"sword\",\n",
    "    \"Attack_Strength\": 74,\n",
    "    \"OriginCity\": \"Nibelheim\",\n",
    "    \"Short_Range\": True\n",
    "}\n",
    "\n",
    "print(\"Name of character is,\",character.get(\"Name\"))\n",
    "\n",
    "character.update({\"Name\":\"Chris\"})\n",
    "print(\"\\nHe changed his name to,\",character.get(\"Name\"))\n",
    "\n",
    "character.update({\"color\":\"blue\"})\n",
    "character.update({\"magic\":[\"fire\",\"ice\",\"lightning\"]})\n",
    "\n",
    "print(\"\\n\",character)\n",
    "\n",
    "print(\"\\n\",character.keys())\n",
    "print(\"\\n\",character.values())\n",
    "\n",
    "character2 = character.copy()\n",
    "character2.pop(\"Attack_Strength\")\n",
    "print(\"\\n\",character2)\n",
    "\n",
    "character2.clear()\n",
    "print(\"\\nRemove all elements from 2nd dictionary\",character2)"
   ]
  }
 ],
 "metadata": {
  "kernelspec": {
   "display_name": "Python 3",
   "language": "python",
   "name": "python3"
  },
  "language_info": {
   "codemirror_mode": {
    "name": "ipython",
    "version": 3
   },
   "file_extension": ".py",
   "mimetype": "text/x-python",
   "name": "python",
   "nbconvert_exporter": "python",
   "pygments_lexer": "ipython3",
   "version": "3.11.3"
  },
  "orig_nbformat": 4
 },
 "nbformat": 4,
 "nbformat_minor": 2
}
